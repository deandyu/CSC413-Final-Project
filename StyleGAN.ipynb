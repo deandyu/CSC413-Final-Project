{
  "nbformat": 4,
  "nbformat_minor": 0,
  "metadata": {
    "colab": {
      "provenance": [],
      "toc_visible": true
    },
    "kernelspec": {
      "name": "python3",
      "display_name": "Python 3"
    },
    "language_info": {
      "name": "python"
    },
    "accelerator": "GPU",
    "gpuClass": "standard"
  },
  "cells": [
    {
      "cell_type": "markdown",
      "source": [
        "# StyleGAN"
      ],
      "metadata": {
        "id": "9wUx6tqLr5cg"
      }
    },
    {
      "cell_type": "markdown",
      "source": [
        "### Mount Google Drive"
      ],
      "metadata": {
        "id": "ehvyykd2szt-"
      }
    },
    {
      "cell_type": "code",
      "execution_count": null,
      "metadata": {
        "id": "-mRwKsLl3Jf2"
      },
      "outputs": [],
      "source": [
        "from google.colab import drive\n",
        "drive.mount('/content/drive', force_remount=True)"
      ]
    },
    {
      "cell_type": "markdown",
      "source": [
        "### Clone the StyleGAN Repo"
      ],
      "metadata": {
        "id": "kgEeiHGBs3kk"
      }
    },
    {
      "cell_type": "code",
      "source": [
        "import os\n",
        "if os.path.isdir(\"/content/drive/MyDrive/CSC413/stylegan3/\"):\n",
        "    %cd \"/content/drive/MyDrive/CSC413/\"\n",
        "else:\n",
        "    %cd \"/content/drive/MyDrive/CSC413/\"\n",
        "    !git clone https://github.com/NVlabs/stylegan3.git\n",
        "    !ls /content/drive/MyDrive/CSC413/stylegan3/"
      ],
      "metadata": {
        "id": "OFMHxDDLpteV"
      },
      "execution_count": null,
      "outputs": []
    },
    {
      "cell_type": "markdown",
      "source": [
        "### Configure Dependencies"
      ],
      "metadata": {
        "id": "0VQ1HaJX3Ush"
      }
    },
    {
      "cell_type": "code",
      "source": [
        "%pip install ninja"
      ],
      "metadata": {
        "id": "rzHmpSNl2XvV"
      },
      "execution_count": null,
      "outputs": []
    },
    {
      "cell_type": "code",
      "source": [
        "import torch\n",
        "print(torch.__version__)"
      ],
      "metadata": {
        "id": "pAMdC04PsYch"
      },
      "execution_count": null,
      "outputs": []
    },
    {
      "cell_type": "markdown",
      "source": [
        "### Configure System"
      ],
      "metadata": {
        "id": "s822fusFx3pd"
      }
    },
    {
      "cell_type": "code",
      "source": [
        "import sys\n",
        "sys.path.insert(0, \"/content/drive/MyDrive/CSC413/stylegan3\")\n",
        "import dnnlib"
      ],
      "metadata": {
        "id": "QKzUAHPIp78Y"
      },
      "execution_count": null,
      "outputs": []
    },
    {
      "cell_type": "markdown",
      "source": [
        "### Get Dataset"
      ],
      "metadata": {
        "id": "8P9sGlUdPknO"
      }
    },
    {
      "cell_type": "code",
      "source": [
        " ! python /content/drive/MyDrive/CSC413/stylegan3/dataset_tool.py --source=/content/drive/MyDrive/CIFAR10/cifar-10-python.tar.gz --dest=/content/drive/MyDrive/CSC413/stylegan3/datasets/cifar10.zip"
      ],
      "metadata": {
        "id": "B9473o2yrK21"
      },
      "execution_count": null,
      "outputs": []
    },
    {
      "cell_type": "markdown",
      "source": [
        "### Train"
      ],
      "metadata": {
        "id": "Vc0GPBWZPmfR"
      }
    },
    {
      "cell_type": "code",
      "source": [
        "! python /content/drive/MyDrive/CSC413/stylegan3/train.py --outdir=/content/drive/MyDrive/CSC413/training-runs --cfg stylegan2 --data=/content/drive/MyDrive/CSC413/stylegan3/datasets/cifar10.zip --gpus=1 --kimg=1000 --batch=32 --gamma=8.2 --cbase=1024 --dry-run "
      ],
      "metadata": {
        "id": "yMrRQvyS3pMh"
      },
      "execution_count": null,
      "outputs": []
    },
    {
      "cell_type": "code",
      "source": [
        "! python /content/drive/MyDrive/CSC413/stylegan3/train.py --outdir=/content/drive/MyDrive/CSC413/training-runs --cfg stylegan2 --data=/content/drive/MyDrive/CSC413/stylegan3/datasets/cifar10.zip --gpus=1 --kimg=1000 --batch=32 --gamma=8.2 --cbase=1024"
      ],
      "metadata": {
        "id": "wYQq2Y7Ly64z"
      },
      "execution_count": null,
      "outputs": []
    }
  ]
}